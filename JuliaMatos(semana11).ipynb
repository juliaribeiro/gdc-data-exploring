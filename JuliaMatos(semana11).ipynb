{
  "nbformat": 4,
  "nbformat_minor": 0,
  "metadata": {
    "colab": {
      "name": "JuliaMatos(semana11).ipynb",
      "provenance": [],
      "authorship_tag": "ABX9TyP092IIslpgfweehDnlZJbi"
    },
    "kernelspec": {
      "name": "python3",
      "display_name": "Python 3"
    },
    "language_info": {
      "name": "python"
    }
  },
  "cells": [
    {
      "cell_type": "markdown",
      "metadata": {
        "id": "OILw6WBsmsNU"
      },
      "source": [
        "## This is Alcohol Consumption in Russia (1998-2016) Dataset. \n",
        "---\n",
        " It contains values of consumption for wine, beer, vodka, brandy and champagne.\n",
        "  * \"year\" - year (1998-2016)\n",
        "  * \"region\" - name of a federal subject of Russia. It could be oblast, republic, krai, autonomous okrug, federal city and a single autonomous oblast\n",
        "  * \"wine\" - sale of wine in litres by year per capita\n",
        "  * \"beer\" - sale of beer in litres by year per capita\n",
        "  * \"vodka\" - sale of vodka in litres by year per capita\n",
        "  * \"champagne\" - sale of champagne in litres by year per capita\n",
        "  * \"brandy\" - sale of brandy in litres by year per capita"
      ]
    },
    {
      "cell_type": "code",
      "metadata": {
        "id": "GBMv1-c1O6dy"
      },
      "source": [
        "import pandas as pd\n",
        "import numpy as np"
      ],
      "execution_count": null,
      "outputs": []
    },
    {
      "cell_type": "code",
      "metadata": {
        "id": "dCveh1FdP_SB"
      },
      "source": [
        "consumo = pd.read_csv(\"https://raw.githubusercontent.com/juliaribeiro/gdc-data-exploring/main/russia_alcohol.csv\")"
      ],
      "execution_count": null,
      "outputs": []
    },
    {
      "cell_type": "code",
      "metadata": {
        "colab": {
          "base_uri": "https://localhost:8080/",
          "height": 419
        },
        "id": "J-AoYlTsQIfT",
        "outputId": "d610cc7c-dff3-4e24-ec44-3105baed4910"
      },
      "source": [
        "consumo "
      ],
      "execution_count": null,
      "outputs": [
        {
          "output_type": "execute_result",
          "data": {
            "text/html": [
              "<div>\n",
              "<style scoped>\n",
              "    .dataframe tbody tr th:only-of-type {\n",
              "        vertical-align: middle;\n",
              "    }\n",
              "\n",
              "    .dataframe tbody tr th {\n",
              "        vertical-align: top;\n",
              "    }\n",
              "\n",
              "    .dataframe thead th {\n",
              "        text-align: right;\n",
              "    }\n",
              "</style>\n",
              "<table border=\"1\" class=\"dataframe\">\n",
              "  <thead>\n",
              "    <tr style=\"text-align: right;\">\n",
              "      <th></th>\n",
              "      <th>year</th>\n",
              "      <th>region</th>\n",
              "      <th>wine</th>\n",
              "      <th>beer</th>\n",
              "      <th>vodka</th>\n",
              "      <th>champagne</th>\n",
              "      <th>brandy</th>\n",
              "    </tr>\n",
              "  </thead>\n",
              "  <tbody>\n",
              "    <tr>\n",
              "      <th>0</th>\n",
              "      <td>1998</td>\n",
              "      <td>Republic of Adygea</td>\n",
              "      <td>1.9</td>\n",
              "      <td>8.8</td>\n",
              "      <td>3.4</td>\n",
              "      <td>0.3</td>\n",
              "      <td>0.1</td>\n",
              "    </tr>\n",
              "    <tr>\n",
              "      <th>1</th>\n",
              "      <td>1998</td>\n",
              "      <td>Altai Krai</td>\n",
              "      <td>3.3</td>\n",
              "      <td>19.2</td>\n",
              "      <td>11.3</td>\n",
              "      <td>1.1</td>\n",
              "      <td>0.1</td>\n",
              "    </tr>\n",
              "    <tr>\n",
              "      <th>2</th>\n",
              "      <td>1998</td>\n",
              "      <td>Amur Oblast</td>\n",
              "      <td>2.1</td>\n",
              "      <td>21.2</td>\n",
              "      <td>17.3</td>\n",
              "      <td>0.7</td>\n",
              "      <td>0.4</td>\n",
              "    </tr>\n",
              "    <tr>\n",
              "      <th>3</th>\n",
              "      <td>1998</td>\n",
              "      <td>Arkhangelsk Oblast</td>\n",
              "      <td>4.3</td>\n",
              "      <td>10.6</td>\n",
              "      <td>11.7</td>\n",
              "      <td>0.4</td>\n",
              "      <td>0.3</td>\n",
              "    </tr>\n",
              "    <tr>\n",
              "      <th>4</th>\n",
              "      <td>1998</td>\n",
              "      <td>Astrakhan Oblast</td>\n",
              "      <td>2.9</td>\n",
              "      <td>18.0</td>\n",
              "      <td>9.5</td>\n",
              "      <td>0.8</td>\n",
              "      <td>0.2</td>\n",
              "    </tr>\n",
              "    <tr>\n",
              "      <th>...</th>\n",
              "      <td>...</td>\n",
              "      <td>...</td>\n",
              "      <td>...</td>\n",
              "      <td>...</td>\n",
              "      <td>...</td>\n",
              "      <td>...</td>\n",
              "      <td>...</td>\n",
              "    </tr>\n",
              "    <tr>\n",
              "      <th>1610</th>\n",
              "      <td>2016</td>\n",
              "      <td>Chuvash Republic</td>\n",
              "      <td>5.0</td>\n",
              "      <td>42.3</td>\n",
              "      <td>7.7</td>\n",
              "      <td>0.7</td>\n",
              "      <td>0.4</td>\n",
              "    </tr>\n",
              "    <tr>\n",
              "      <th>1611</th>\n",
              "      <td>2016</td>\n",
              "      <td>Chukotka Autonomous Okrug</td>\n",
              "      <td>3.9</td>\n",
              "      <td>34.0</td>\n",
              "      <td>11.6</td>\n",
              "      <td>1.8</td>\n",
              "      <td>1.1</td>\n",
              "    </tr>\n",
              "    <tr>\n",
              "      <th>1612</th>\n",
              "      <td>2016</td>\n",
              "      <td>Sakha (Yakutia) Republic</td>\n",
              "      <td>4.3</td>\n",
              "      <td>56.1</td>\n",
              "      <td>8.2</td>\n",
              "      <td>1.8</td>\n",
              "      <td>0.5</td>\n",
              "    </tr>\n",
              "    <tr>\n",
              "      <th>1613</th>\n",
              "      <td>2016</td>\n",
              "      <td>Yamalo-Nenets Autonomous Okrug</td>\n",
              "      <td>4.5</td>\n",
              "      <td>75.8</td>\n",
              "      <td>8.2</td>\n",
              "      <td>1.7</td>\n",
              "      <td>1.3</td>\n",
              "    </tr>\n",
              "    <tr>\n",
              "      <th>1614</th>\n",
              "      <td>2016</td>\n",
              "      <td>Yaroslavl Oblast</td>\n",
              "      <td>10.2</td>\n",
              "      <td>38.0</td>\n",
              "      <td>8.9</td>\n",
              "      <td>1.4</td>\n",
              "      <td>1.0</td>\n",
              "    </tr>\n",
              "  </tbody>\n",
              "</table>\n",
              "<p>1615 rows × 7 columns</p>\n",
              "</div>"
            ],
            "text/plain": [
              "      year                          region  wine  ...  vodka  champagne  brandy\n",
              "0     1998              Republic of Adygea   1.9  ...    3.4        0.3     0.1\n",
              "1     1998                      Altai Krai   3.3  ...   11.3        1.1     0.1\n",
              "2     1998                     Amur Oblast   2.1  ...   17.3        0.7     0.4\n",
              "3     1998              Arkhangelsk Oblast   4.3  ...   11.7        0.4     0.3\n",
              "4     1998                Astrakhan Oblast   2.9  ...    9.5        0.8     0.2\n",
              "...    ...                             ...   ...  ...    ...        ...     ...\n",
              "1610  2016                Chuvash Republic   5.0  ...    7.7        0.7     0.4\n",
              "1611  2016       Chukotka Autonomous Okrug   3.9  ...   11.6        1.8     1.1\n",
              "1612  2016        Sakha (Yakutia) Republic   4.3  ...    8.2        1.8     0.5\n",
              "1613  2016  Yamalo-Nenets Autonomous Okrug   4.5  ...    8.2        1.7     1.3\n",
              "1614  2016                Yaroslavl Oblast  10.2  ...    8.9        1.4     1.0\n",
              "\n",
              "[1615 rows x 7 columns]"
            ]
          },
          "metadata": {
            "tags": []
          },
          "execution_count": 15
        }
      ]
    },
    {
      "cell_type": "code",
      "metadata": {
        "colab": {
          "base_uri": "https://localhost:8080/",
          "height": 297
        },
        "id": "T-KVk9vaJx9d",
        "outputId": "f9783f67-5b77-4fd7-d7ca-f98619c0a1a5"
      },
      "source": [
        "consumo.describe()"
      ],
      "execution_count": null,
      "outputs": [
        {
          "output_type": "execute_result",
          "data": {
            "text/html": [
              "<div>\n",
              "<style scoped>\n",
              "    .dataframe tbody tr th:only-of-type {\n",
              "        vertical-align: middle;\n",
              "    }\n",
              "\n",
              "    .dataframe tbody tr th {\n",
              "        vertical-align: top;\n",
              "    }\n",
              "\n",
              "    .dataframe thead th {\n",
              "        text-align: right;\n",
              "    }\n",
              "</style>\n",
              "<table border=\"1\" class=\"dataframe\">\n",
              "  <thead>\n",
              "    <tr style=\"text-align: right;\">\n",
              "      <th></th>\n",
              "      <th>year</th>\n",
              "      <th>wine</th>\n",
              "      <th>beer</th>\n",
              "      <th>vodka</th>\n",
              "      <th>champagne</th>\n",
              "      <th>brandy</th>\n",
              "    </tr>\n",
              "  </thead>\n",
              "  <tbody>\n",
              "    <tr>\n",
              "      <th>count</th>\n",
              "      <td>1615.000000</td>\n",
              "      <td>1552.000000</td>\n",
              "      <td>1557.000000</td>\n",
              "      <td>1554.000000</td>\n",
              "      <td>1552.000000</td>\n",
              "      <td>1549.000000</td>\n",
              "    </tr>\n",
              "    <tr>\n",
              "      <th>mean</th>\n",
              "      <td>2007.000000</td>\n",
              "      <td>5.628144</td>\n",
              "      <td>51.260148</td>\n",
              "      <td>11.818694</td>\n",
              "      <td>1.313177</td>\n",
              "      <td>0.526998</td>\n",
              "    </tr>\n",
              "    <tr>\n",
              "      <th>std</th>\n",
              "      <td>5.478922</td>\n",
              "      <td>2.813208</td>\n",
              "      <td>25.372821</td>\n",
              "      <td>5.128806</td>\n",
              "      <td>0.797956</td>\n",
              "      <td>0.400201</td>\n",
              "    </tr>\n",
              "    <tr>\n",
              "      <th>min</th>\n",
              "      <td>1998.000000</td>\n",
              "      <td>0.100000</td>\n",
              "      <td>0.400000</td>\n",
              "      <td>0.050000</td>\n",
              "      <td>0.100000</td>\n",
              "      <td>0.000000</td>\n",
              "    </tr>\n",
              "    <tr>\n",
              "      <th>25%</th>\n",
              "      <td>2002.000000</td>\n",
              "      <td>3.575000</td>\n",
              "      <td>32.400000</td>\n",
              "      <td>8.300000</td>\n",
              "      <td>0.800000</td>\n",
              "      <td>0.200000</td>\n",
              "    </tr>\n",
              "    <tr>\n",
              "      <th>50%</th>\n",
              "      <td>2007.000000</td>\n",
              "      <td>5.400000</td>\n",
              "      <td>49.970000</td>\n",
              "      <td>11.500000</td>\n",
              "      <td>1.200000</td>\n",
              "      <td>0.400000</td>\n",
              "    </tr>\n",
              "    <tr>\n",
              "      <th>75%</th>\n",
              "      <td>2012.000000</td>\n",
              "      <td>7.377500</td>\n",
              "      <td>67.400000</td>\n",
              "      <td>15.000000</td>\n",
              "      <td>1.665000</td>\n",
              "      <td>0.700000</td>\n",
              "    </tr>\n",
              "    <tr>\n",
              "      <th>max</th>\n",
              "      <td>2016.000000</td>\n",
              "      <td>18.100000</td>\n",
              "      <td>207.300000</td>\n",
              "      <td>40.600000</td>\n",
              "      <td>5.560000</td>\n",
              "      <td>2.300000</td>\n",
              "    </tr>\n",
              "  </tbody>\n",
              "</table>\n",
              "</div>"
            ],
            "text/plain": [
              "              year         wine  ...    champagne       brandy\n",
              "count  1615.000000  1552.000000  ...  1552.000000  1549.000000\n",
              "mean   2007.000000     5.628144  ...     1.313177     0.526998\n",
              "std       5.478922     2.813208  ...     0.797956     0.400201\n",
              "min    1998.000000     0.100000  ...     0.100000     0.000000\n",
              "25%    2002.000000     3.575000  ...     0.800000     0.200000\n",
              "50%    2007.000000     5.400000  ...     1.200000     0.400000\n",
              "75%    2012.000000     7.377500  ...     1.665000     0.700000\n",
              "max    2016.000000    18.100000  ...     5.560000     2.300000\n",
              "\n",
              "[8 rows x 6 columns]"
            ]
          },
          "metadata": {
            "tags": []
          },
          "execution_count": 16
        }
      ]
    },
    {
      "cell_type": "code",
      "metadata": {
        "colab": {
          "base_uri": "https://localhost:8080/"
        },
        "id": "IJZRzwRUijbo",
        "outputId": "6b9db92d-8017-4903-fb8b-3a2026cdce31"
      },
      "source": [
        "consumo['beer'].max()"
      ],
      "execution_count": null,
      "outputs": [
        {
          "output_type": "execute_result",
          "data": {
            "text/plain": [
              "207.3"
            ]
          },
          "metadata": {
            "tags": []
          },
          "execution_count": 17
        }
      ]
    },
    {
      "cell_type": "code",
      "metadata": {
        "colab": {
          "base_uri": "https://localhost:8080/",
          "height": 80
        },
        "id": "gkaFRzg3k8BR",
        "outputId": "d26c2d06-a510-4a7e-d17f-7a913636eb90"
      },
      "source": [
        "consumo.sort_values(by='beer',ascending=False).head(1)"
      ],
      "execution_count": null,
      "outputs": [
        {
          "output_type": "execute_result",
          "data": {
            "text/html": [
              "<div>\n",
              "<style scoped>\n",
              "    .dataframe tbody tr th:only-of-type {\n",
              "        vertical-align: middle;\n",
              "    }\n",
              "\n",
              "    .dataframe tbody tr th {\n",
              "        vertical-align: top;\n",
              "    }\n",
              "\n",
              "    .dataframe thead th {\n",
              "        text-align: right;\n",
              "    }\n",
              "</style>\n",
              "<table border=\"1\" class=\"dataframe\">\n",
              "  <thead>\n",
              "    <tr style=\"text-align: right;\">\n",
              "      <th></th>\n",
              "      <th>year</th>\n",
              "      <th>region</th>\n",
              "      <th>wine</th>\n",
              "      <th>beer</th>\n",
              "      <th>vodka</th>\n",
              "      <th>champagne</th>\n",
              "      <th>brandy</th>\n",
              "    </tr>\n",
              "  </thead>\n",
              "  <tbody>\n",
              "    <tr>\n",
              "      <th>695</th>\n",
              "      <td>2006</td>\n",
              "      <td>Zabaykalsky Krai</td>\n",
              "      <td>13.7</td>\n",
              "      <td>207.3</td>\n",
              "      <td>31.7</td>\n",
              "      <td>3.1</td>\n",
              "      <td>1.3</td>\n",
              "    </tr>\n",
              "  </tbody>\n",
              "</table>\n",
              "</div>"
            ],
            "text/plain": [
              "     year            region  wine   beer  vodka  champagne  brandy\n",
              "695  2006  Zabaykalsky Krai  13.7  207.3   31.7        3.1     1.3"
            ]
          },
          "metadata": {
            "tags": []
          },
          "execution_count": 18
        }
      ]
    },
    {
      "cell_type": "code",
      "metadata": {
        "colab": {
          "base_uri": "https://localhost:8080/",
          "height": 80
        },
        "id": "N0JPW0waJmCb",
        "outputId": "d2af5f11-5a75-444e-fabc-9eb810d624cd"
      },
      "source": [
        "consumo.sort_values(by='vodka',ascending=False).head(1)"
      ],
      "execution_count": null,
      "outputs": [
        {
          "output_type": "execute_result",
          "data": {
            "text/html": [
              "<div>\n",
              "<style scoped>\n",
              "    .dataframe tbody tr th:only-of-type {\n",
              "        vertical-align: middle;\n",
              "    }\n",
              "\n",
              "    .dataframe tbody tr th {\n",
              "        vertical-align: top;\n",
              "    }\n",
              "\n",
              "    .dataframe thead th {\n",
              "        text-align: right;\n",
              "    }\n",
              "</style>\n",
              "<table border=\"1\" class=\"dataframe\">\n",
              "  <thead>\n",
              "    <tr style=\"text-align: right;\">\n",
              "      <th></th>\n",
              "      <th>year</th>\n",
              "      <th>region</th>\n",
              "      <th>wine</th>\n",
              "      <th>beer</th>\n",
              "      <th>vodka</th>\n",
              "      <th>champagne</th>\n",
              "      <th>brandy</th>\n",
              "    </tr>\n",
              "  </thead>\n",
              "  <tbody>\n",
              "    <tr>\n",
              "      <th>525</th>\n",
              "      <td>2004</td>\n",
              "      <td>Zabaykalsky Krai</td>\n",
              "      <td>15.7</td>\n",
              "      <td>190.4</td>\n",
              "      <td>40.6</td>\n",
              "      <td>3.0</td>\n",
              "      <td>1.8</td>\n",
              "    </tr>\n",
              "  </tbody>\n",
              "</table>\n",
              "</div>"
            ],
            "text/plain": [
              "     year            region  wine   beer  vodka  champagne  brandy\n",
              "525  2004  Zabaykalsky Krai  15.7  190.4   40.6        3.0     1.8"
            ]
          },
          "metadata": {
            "tags": []
          },
          "execution_count": 19
        }
      ]
    },
    {
      "cell_type": "code",
      "metadata": {
        "colab": {
          "base_uri": "https://localhost:8080/",
          "height": 80
        },
        "id": "2SwqdV8SKfx8",
        "outputId": "a8af5b60-544b-418d-8d4a-b4fa4ea48678"
      },
      "source": [
        "consumo.sort_values(by='wine',ascending=False).head(1)"
      ],
      "execution_count": null,
      "outputs": [
        {
          "output_type": "execute_result",
          "data": {
            "text/html": [
              "<div>\n",
              "<style scoped>\n",
              "    .dataframe tbody tr th:only-of-type {\n",
              "        vertical-align: middle;\n",
              "    }\n",
              "\n",
              "    .dataframe tbody tr th {\n",
              "        vertical-align: top;\n",
              "    }\n",
              "\n",
              "    .dataframe thead th {\n",
              "        text-align: right;\n",
              "    }\n",
              "</style>\n",
              "<table border=\"1\" class=\"dataframe\">\n",
              "  <thead>\n",
              "    <tr style=\"text-align: right;\">\n",
              "      <th></th>\n",
              "      <th>year</th>\n",
              "      <th>region</th>\n",
              "      <th>wine</th>\n",
              "      <th>beer</th>\n",
              "      <th>vodka</th>\n",
              "      <th>champagne</th>\n",
              "      <th>brandy</th>\n",
              "    </tr>\n",
              "  </thead>\n",
              "  <tbody>\n",
              "    <tr>\n",
              "      <th>436</th>\n",
              "      <td>2003</td>\n",
              "      <td>Vologda Oblast</td>\n",
              "      <td>18.1</td>\n",
              "      <td>61.7</td>\n",
              "      <td>24.6</td>\n",
              "      <td>0.4</td>\n",
              "      <td>0.6</td>\n",
              "    </tr>\n",
              "  </tbody>\n",
              "</table>\n",
              "</div>"
            ],
            "text/plain": [
              "     year          region  wine  beer  vodka  champagne  brandy\n",
              "436  2003  Vologda Oblast  18.1  61.7   24.6        0.4     0.6"
            ]
          },
          "metadata": {
            "tags": []
          },
          "execution_count": 10
        }
      ]
    },
    {
      "cell_type": "code",
      "metadata": {
        "id": "iKWTPYkZmkni",
        "colab": {
          "base_uri": "https://localhost:8080/",
          "height": 359
        },
        "outputId": "53cb345f-d0ff-4f4f-d9c5-bf9343675adf"
      },
      "source": [
        "consumo.tail(10)"
      ],
      "execution_count": null,
      "outputs": [
        {
          "output_type": "execute_result",
          "data": {
            "text/html": [
              "<div>\n",
              "<style scoped>\n",
              "    .dataframe tbody tr th:only-of-type {\n",
              "        vertical-align: middle;\n",
              "    }\n",
              "\n",
              "    .dataframe tbody tr th {\n",
              "        vertical-align: top;\n",
              "    }\n",
              "\n",
              "    .dataframe thead th {\n",
              "        text-align: right;\n",
              "    }\n",
              "</style>\n",
              "<table border=\"1\" class=\"dataframe\">\n",
              "  <thead>\n",
              "    <tr style=\"text-align: right;\">\n",
              "      <th></th>\n",
              "      <th>year</th>\n",
              "      <th>region</th>\n",
              "      <th>wine</th>\n",
              "      <th>beer</th>\n",
              "      <th>vodka</th>\n",
              "      <th>champagne</th>\n",
              "      <th>brandy</th>\n",
              "    </tr>\n",
              "  </thead>\n",
              "  <tbody>\n",
              "    <tr>\n",
              "      <th>1605</th>\n",
              "      <td>2016</td>\n",
              "      <td>Khabarovsk Krai</td>\n",
              "      <td>7.0</td>\n",
              "      <td>73.7</td>\n",
              "      <td>11.2</td>\n",
              "      <td>2.6</td>\n",
              "      <td>0.9</td>\n",
              "    </tr>\n",
              "    <tr>\n",
              "      <th>1606</th>\n",
              "      <td>2016</td>\n",
              "      <td>Republic of Khakassia</td>\n",
              "      <td>4.3</td>\n",
              "      <td>79.1</td>\n",
              "      <td>4.7</td>\n",
              "      <td>1.4</td>\n",
              "      <td>0.5</td>\n",
              "    </tr>\n",
              "    <tr>\n",
              "      <th>1607</th>\n",
              "      <td>2016</td>\n",
              "      <td>Khanty–Mansi Autonomous Okrug – Yugra</td>\n",
              "      <td>4.3</td>\n",
              "      <td>67.5</td>\n",
              "      <td>9.2</td>\n",
              "      <td>2.0</td>\n",
              "      <td>1.3</td>\n",
              "    </tr>\n",
              "    <tr>\n",
              "      <th>1608</th>\n",
              "      <td>2016</td>\n",
              "      <td>Chelyabinsk Oblast</td>\n",
              "      <td>5.3</td>\n",
              "      <td>42.6</td>\n",
              "      <td>5.1</td>\n",
              "      <td>1.2</td>\n",
              "      <td>0.6</td>\n",
              "    </tr>\n",
              "    <tr>\n",
              "      <th>1609</th>\n",
              "      <td>2016</td>\n",
              "      <td>Chechen Republic</td>\n",
              "      <td>NaN</td>\n",
              "      <td>1.2</td>\n",
              "      <td>NaN</td>\n",
              "      <td>NaN</td>\n",
              "      <td>NaN</td>\n",
              "    </tr>\n",
              "    <tr>\n",
              "      <th>1610</th>\n",
              "      <td>2016</td>\n",
              "      <td>Chuvash Republic</td>\n",
              "      <td>5.0</td>\n",
              "      <td>42.3</td>\n",
              "      <td>7.7</td>\n",
              "      <td>0.7</td>\n",
              "      <td>0.4</td>\n",
              "    </tr>\n",
              "    <tr>\n",
              "      <th>1611</th>\n",
              "      <td>2016</td>\n",
              "      <td>Chukotka Autonomous Okrug</td>\n",
              "      <td>3.9</td>\n",
              "      <td>34.0</td>\n",
              "      <td>11.6</td>\n",
              "      <td>1.8</td>\n",
              "      <td>1.1</td>\n",
              "    </tr>\n",
              "    <tr>\n",
              "      <th>1612</th>\n",
              "      <td>2016</td>\n",
              "      <td>Sakha (Yakutia) Republic</td>\n",
              "      <td>4.3</td>\n",
              "      <td>56.1</td>\n",
              "      <td>8.2</td>\n",
              "      <td>1.8</td>\n",
              "      <td>0.5</td>\n",
              "    </tr>\n",
              "    <tr>\n",
              "      <th>1613</th>\n",
              "      <td>2016</td>\n",
              "      <td>Yamalo-Nenets Autonomous Okrug</td>\n",
              "      <td>4.5</td>\n",
              "      <td>75.8</td>\n",
              "      <td>8.2</td>\n",
              "      <td>1.7</td>\n",
              "      <td>1.3</td>\n",
              "    </tr>\n",
              "    <tr>\n",
              "      <th>1614</th>\n",
              "      <td>2016</td>\n",
              "      <td>Yaroslavl Oblast</td>\n",
              "      <td>10.2</td>\n",
              "      <td>38.0</td>\n",
              "      <td>8.9</td>\n",
              "      <td>1.4</td>\n",
              "      <td>1.0</td>\n",
              "    </tr>\n",
              "  </tbody>\n",
              "</table>\n",
              "</div>"
            ],
            "text/plain": [
              "      year                                 region  ...  champagne  brandy\n",
              "1605  2016                        Khabarovsk Krai  ...        2.6     0.9\n",
              "1606  2016                  Republic of Khakassia  ...        1.4     0.5\n",
              "1607  2016  Khanty–Mansi Autonomous Okrug – Yugra  ...        2.0     1.3\n",
              "1608  2016                     Chelyabinsk Oblast  ...        1.2     0.6\n",
              "1609  2016                       Chechen Republic  ...        NaN     NaN\n",
              "1610  2016                       Chuvash Republic  ...        0.7     0.4\n",
              "1611  2016              Chukotka Autonomous Okrug  ...        1.8     1.1\n",
              "1612  2016               Sakha (Yakutia) Republic  ...        1.8     0.5\n",
              "1613  2016         Yamalo-Nenets Autonomous Okrug  ...        1.7     1.3\n",
              "1614  2016                       Yaroslavl Oblast  ...        1.4     1.0\n",
              "\n",
              "[10 rows x 7 columns]"
            ]
          },
          "metadata": {
            "tags": []
          },
          "execution_count": 20
        }
      ]
    },
    {
      "cell_type": "markdown",
      "metadata": {
        "id": "xR-i9LhrKDcc"
      },
      "source": [
        "- Nome: Julia Matos\n",
        "- Matricula: 0050015603\n",
        " - O que me chamou atenção é que a litragem de maior consumo é a da cerveja, eu particulamente achava que os russos tinham uma certa preferencia pela vodka. Outra coisa que também chamou minha atenção é que na regiao de Zabaykalsky é como se o consumo fosse mais que uma lata de 350ml por dia.  \n",
        "\n"
      ]
    }
  ]
}